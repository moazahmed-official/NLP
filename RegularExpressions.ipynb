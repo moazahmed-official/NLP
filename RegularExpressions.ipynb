{
  "nbformat": 4,
  "nbformat_minor": 0,
  "metadata": {
    "colab": {
      "provenance": [],
      "authorship_tag": "ABX9TyMXG6gDlPyB/1hU8lmfa0Ii",
      "include_colab_link": true
    },
    "kernelspec": {
      "name": "python3",
      "display_name": "Python 3"
    },
    "language_info": {
      "name": "python"
    }
  },
  "cells": [
    {
      "cell_type": "markdown",
      "metadata": {
        "id": "view-in-github",
        "colab_type": "text"
      },
      "source": [
        "<a href=\"https://colab.research.google.com/github/moazahmed-official/NLP/blob/main/RegularExpressions.ipynb\" target=\"_parent\"><img src=\"https://colab.research.google.com/assets/colab-badge.svg\" alt=\"Open In Colab\"/></a>"
      ]
    },
    {
      "cell_type": "code",
      "execution_count": null,
      "metadata": {
        "id": "hmS4cJNSjn5h",
        "outputId": "b47c8486-dcbc-4547-bac0-04c2662d7049",
        "colab": {
          "base_uri": "https://localhost:8080/"
        }
      },
      "outputs": [
        {
          "output_type": "stream",
          "name": "stdout",
          "text": [
            "Exercise 1 Results:\n",
            "Emails: ['info@company.com', 'sales@shop.org']\n",
            "Dates: ['25-10-2025', '15/10/2025']\n",
            "Numbers >=100: ['2025', '2025', '120']\n",
            "\n",
            "........................................\n",
            "\n",
            "Exercise 2 Results:\n",
            "Clean text: Great session on #AI and #NLP today Follow @DataLab and @AI_Community for updates\n",
            "Hashtags: ['#AI', '#NLP']\n",
            "Mentions: ['@DataLab', '@AI_Community']\n"
          ]
        }
      ],
      "source": [
        "import re\n",
        "\n",
        "# Exercise 1\n",
        "textExample1 = \"\"\"Contact us at info@company.com or sales@shop.org.\n",
        "Our next event is on 25-10-2025, and registration closes 15/10/2025.\n",
        "We already have 120 participants and 99 seats left!\"\"\"\n",
        "\n",
        "emailList = re.findall(r'\\b[A-Za-z0-9._-]+@[A-Za-z0-9.-]+\\.[A-Za-z]{2,}\\b', textExample1)\n",
        "dateList = re.findall(r'\\b\\d{2}[-/]\\d{2}[-/]\\d{4}\\b', textExample1)\n",
        "numberList = re.findall(r'\\b\\d{3,}\\b', textExample1)\n",
        "\n",
        "print(\"Exercise 1 Results:\")\n",
        "print(\"Emails:\", emailList)\n",
        "print(\"Dates:\", dateList)\n",
        "print(\"Numbers >=100:\", numberList)\n",
        "print(\"\\n........................................\\n\")\n",
        "\n",
        "# Exercise 2\n",
        "textExample2 = \"\"\"Great session on #AI and #NLP today! Follow @DataLab and @AI_Community for updates.\"\"\"\n",
        "\n",
        "cleanText = re.sub(r'[^\\w\\s#@]', '', textExample2)\n",
        "hashtagList = re.findall(r'#\\w+', textExample2)\n",
        "mentionList = re.findall(r'@\\w+', textExample2)\n",
        "\n",
        "print(\"Exercise 2 Results:\")\n",
        "print(\"Clean text:\", cleanText)\n",
        "print(\"Hashtags:\", hashtagList)\n",
        "print(\"Mentions:\", mentionList)"
      ]
    }
  ]
}